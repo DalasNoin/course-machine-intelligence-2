{
 "cells": [
  {
   "cell_type": "code",
   "execution_count": 1,
   "metadata": {
    "collapsed": true
   },
   "outputs": [],
   "source": [
    "%matplotlib inline\n",
    "\n",
    "import scipy.io\n",
    "import pandas as pd\n",
    "import numpy as np\n",
    "import matplotlib.pyplot as plt\n",
    "import collections\n",
    "import glob\n",
    "import itertools"
   ]
  },
  {
   "cell_type": "code",
   "execution_count": 2,
   "metadata": {
    "collapsed": true
   },
   "outputs": [],
   "source": [
    "def weights(N, seed=0):\n",
    "    random = np.random.RandomState(seed)\n",
    "    W = random.rand(N, N)\n",
    "    W = (W + W.T) / 2  # symmetrically\n",
    "    W *= (1 - np.eye(N))  # zero diagonal\n",
    "    return W"
   ]
  },
  {
   "cell_type": "code",
   "execution_count": 38,
   "metadata": {
    "collapsed": true
   },
   "outputs": [],
   "source": [
    "def energy(s, w):\n",
    "    return -0.5 * (np.outer(s, s) * w).sum()\n",
    "\n",
    "def local_energy(s, w, i):\n",
    "    return -0.5 * (s[i] * s * w[i]).sum()\n",
    "\n",
    "def find_candidate(s, random):\n",
    "    i = random.randint(0, s.shape[0])\n",
    "    candidate = s.copy()\n",
    "    candidate[i] *= -1\n",
    "    return i, candidate\n",
    "\n",
    "def maybe_flip(s, candidate, i, w, beta, random):\n",
    "    difference = -2 * local_energy(s, w, i)\n",
    "    probability = 1 / (1 + np.e ** (beta * difference))\n",
    "    return [s, candidate][random.rand() < probability]\n",
    "\n",
    "def simulated_annealing(weights, beta, tau, t_max, m=1, seed=0):\n",
    "    random = np.random.RandomState(seed)\n",
    "    n = weights.shape[0]\n",
    "    s = np.array([-1, 1])[random.randint(0, 2, n)]\n",
    "    costs = [energy(s, w)]\n",
    "    for t in range(t_max):\n",
    "        for _ in range(m):\n",
    "            i, candidate = find_candidate(s, random)\n",
    "            s = maybe_flip(s, candidate, i, w, beta, random)\n",
    "        costs.append(energy(s, w))\n",
    "        beta *= tau\n",
    "    return s, costs\n"
   ]
  },
  {
   "cell_type": "code",
   "execution_count": 41,
   "metadata": {
    "collapsed": false,
    "scrolled": false
   },
   "outputs": [
    {
     "name": "stdout",
     "output_type": "stream",
     "text": [
      "M=500 Result -8.34157189151\n",
      "M=1 Result -8.34157189151\n"
     ]
    },
    {
     "data": {
      "image/png": "[encoded data removed]",
      "text/plain": [
       "<matplotlib.figure.Figure at 0x7fc44c3257b8>"
      ]
     },
     "metadata": {},
     "output_type": "display_data"
    },
    {
     "data": {
      "image/png": "[encoded data removed]",
      "text/plain": [
       "<matplotlib.figure.Figure at 0x7fc44c177f60>"
      ]
     },
     "metadata": {},
     "output_type": "display_data"
    }
   ],
   "source": [
    "fig, ax = plt.subplots(figsize=(13, 4))\n",
    "ax.set_title('Energies for M={}'.format(m))\n",
    "ax.set_xlabel('Iteration')\n",
    "ax.set_ylabel('E(s)')\n",
    "\n",
    "w, t_max, beta, tau = weights(6), 10, 1.3, 1.3\n",
    "for m in (500, 1):\n",
    "    _, costs = simulated_annealing(w, beta, tau, t_max, m)\n",
    "    print('M={} Result'.format(m), costs[-1])\n",
    "    ax.plot(np.linspace(0, t_max, len(costs)), costs, label='M={}'.format(m))\n",
    "\n",
    "ax.legend()\n",
    "plt.show()\n",
    "\n",
    "fig, ax = plt.subplots(figsize=(13, 4))\n",
    "ax.set_title('Temperature')\n",
    "ax.set_xlabel('Iteration')\n",
    "ax.set_ylabel(r'$\\frac{1}{\\beta}$', fontsize=24)\n",
    "betas = [beta]\n",
    "for _ in range(t_max):\n",
    "    betas.append(tau * betas[-1])\n",
    "temps = [1 / x for x in betas]\n",
    "ax.step(np.arange(len(temps)), temps)\n",
    "plt.show()"
   ]
  },
  {
   "cell_type": "code",
   "execution_count": 5,
   "metadata": {
    "collapsed": true
   },
   "outputs": [],
   "source": [
    "states = itertools.permutations((-1, 1), 6)\n"
   ]
  }
 ],
 "metadata": {
  "kernelspec": {
   "display_name": "Python 3",
   "language": "python",
   "name": "python3"
  },
  "language_info": {
   "codemirror_mode": {
    "name": "ipython",
    "version": 3
   },
   "file_extension": ".py",
   "mimetype": "text/x-python",
   "name": "python",
   "nbconvert_exporter": "python",
   "pygments_lexer": "ipython3",
   "version": "3.5.1"
  }
 },
 "nbformat": 4,
 "nbformat_minor": 0
}
