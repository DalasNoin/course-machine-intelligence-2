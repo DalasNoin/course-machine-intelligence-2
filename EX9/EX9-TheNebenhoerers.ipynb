{
 "cells": [
  {
   "cell_type": "code",
   "execution_count": 2,
   "metadata": {
    "collapsed": true
   },
   "outputs": [],
   "source": [
    "%matplotlib inline\n",
    "\n",
    "import scipy.io\n",
    "import pandas as pd\n",
    "import numpy as np\n",
    "import matplotlib.pyplot as plt\n",
    "import collections\n",
    "import random\n",
    "import glob\n",
    "# from scipy import ndimage"
   ]
  },
  {
   "cell_type": "code",
   "execution_count": null,
   "metadata": {
    "collapsed": true
   },
   "outputs": [],
   "source": [
    "# seeded random state to get always the same result\n",
    "random = np.random.RandomState(13)\n",
    "\n",
    "def plot(ax, data, **kwargs):\n",
    "    ax.plot(data, **kwargs)\n",
    "    ax.set_title(kwargs['label'])\n",
    "\n",
    "def plot_results(results):\n",
    "    fig, ax = plt.subplots(4, 3, figsize=(13, 6))\n",
    "    plot(ax[0, 0], results[0,:], label='Results 1')\n",
    "    plot(ax[0, 1], results[1,:], label='Results 2')\n",
    "    plot(ax[0, 2], results[2,:], label='Results 3')\n",
    "    plot(ax[1, 0], results[0,:], label='Results 1', color='red')\n",
    "    plot(ax[1, 1], results[1,:], label='Results 2', color='red')\n",
    "    plot(ax[1, 2], results[2,:], label='Results 3', color='red')\n",
    "    plot(ax[2, 0], results[0,:], label='Results 1', color='orange')\n",
    "    plot(ax[2, 1], results[1,:], label='Results 2', color='orange')\n",
    "    plot(ax[2, 2], results[2,:], label='Results 3', color='orange')\n",
    "    plot(ax[3, 0], results[0,:], label='Results 1', color='green')\n",
    "    plot(ax[3, 1], results[1,:], label='Results 2', color='green')\n",
    "    plot(ax[3, 2], results[2,:], label='Results 3', color='green')\n",
    "    fig.tight_layout()"
   ]
  }
 ],
 "metadata": {
  "kernelspec": {
   "display_name": "Python 3",
   "language": "python",
   "name": "python3"
  },
  "language_info": {
   "codemirror_mode": {
    "name": "ipython",
    "version": 3
   },
   "file_extension": ".py",
   "mimetype": "text/x-python",
   "name": "python",
   "nbconvert_exporter": "python",
   "pygments_lexer": "ipython3",
   "version": "3.4.3"
  }
 },
 "nbformat": 4,
 "nbformat_minor": 0
}
