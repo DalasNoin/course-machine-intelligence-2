{
 "cells": [
  {
   "cell_type": "code",
   "execution_count": 1,
   "metadata": {
    "collapsed": true
   },
   "outputs": [],
   "source": [
    "import random\n",
    "import glob\n",
    "from scipy import ndimage\n",
    "import itertools\n",
    "import numpy as np\n",
    "import pandas as pd\n",
    "import matplotlib.pyplot as plt\n",
    "from mpl_toolkits.mplot3d import Axes3D\n",
    "%matplotlib inline"
   ]
  },
  {
   "cell_type": "code",
   "execution_count": null,
   "metadata": {
    "collapsed": false
   },
   "outputs": [],
   "source": [
    "def show_patches(patches, rows, cols, title='Patches', size=10):\n",
    "    assert len(patches) == rows * cols\n",
    "    fig, ax = plt.subplots(\n",
    "        nrows=rows, ncols=cols, figsize=(size, size / cols * rows),\n",
    "        subplot_kw={'xticks': [], 'yticks': []})\n",
    "    fig.suptitle(title)\n",
    "    for x, y in itertools.product(range(rows), range(cols)):\n",
    "        patch = patches[x * cols + y]\n",
    "        ax[x, y].get_xaxis().set_visible(False)\n",
    "        ax[x, y].imshow(patch, cmap=plt.cm.gray_r, interpolation='nearest')\n",
    "    plt.show()\n",
    "\n",
    "def unpack_tiles(image, size=(10, 20)):\n",
    "    grid = image.shape[0] // size[0], image.shape[1] // size[1]\n",
    "    tiles = np.empty(grid + size)\n",
    "    for x, y in np.ndindex(grid):\n",
    "        left, top = x * size[0], y * size[1]\n",
    "        tiles[x, y] = image[left: left + size[0], top: top + size[1]]\n",
    "    tiles = tiles.reshape((tiles.shape[0], -1))\n",
    "    return tiles, grid\n",
    "\n",
    "def pack_tiles(tiles, grid, size=(10, 20)):\n",
    "    tiles = tiles.reshape(grid + size)\n",
    "    image = np.empty((grid[0] * size[0], grid[1] * size[1]))\n",
    "    for x, y in np.ndindex(grid):\n",
    "        left, top = x * size[0], y * size[1]\n",
    "        image[left: left + size[0], top: top + size[1]] = tiles[x, y]\n",
    "    return image\n",
    "\n",
    "def compute_pcs(data):\n",
    "    cov = np.cov(data.T)\n",
    "    eig, pcs = np.linalg.eig(cov)\n",
    "    order = np.argsort(eig)[::-1]\n",
    "    pcs, eig = pcs[order], eig[order]\n",
    "    pcs = pcs.T\n",
    "    return pcs, eig\n",
    "\n",
    "def compress_tiles(tiles, pcs):\n",
    "    mean = tiles.mean(axis=0)\n",
    "    tiles -= mean\n",
    "    transformed = np.dot(pcs, tiles.T)\n",
    "    reconstructed = np.dot(pcs.T, transformed).T\n",
    "    reconstructed += mean\n",
    "    return reconstructed"
   ]
  },
  {
   "cell_type": "code",
   "execution_count": null,
   "metadata": {
    "collapsed": false,
    "scrolled": true
   },
   "outputs": [],
   "source": [
    "# Exercise 3.1\n",
    "picture = ndimage.imread('imgpca/b8.jpg').astype(np.float64)\n",
    "size = (10, 20)\n",
    "tiles, grid = unpack_tiles(picture, size)\n",
    "pcs, eig = compute_pcs(tiles)\n",
    "\n",
    "for keep in [1, 2, 4, 8, 16, 100]:\n",
    "    compressed = compress_tiles(tiles, pcs[:keep])\n",
    "    plt.imshow(pack_tiles(compressed, grid, size), cmap=plt.cm.gray, interpolation='nearest')\n",
    "    plt.show()"
   ]
  }
 ],
 "metadata": {
  "kernelspec": {
   "display_name": "Python 3",
   "language": "python",
   "name": "python3"
  },
  "language_info": {
   "codemirror_mode": {
    "name": "ipython",
    "version": 3
   },
   "file_extension": ".py",
   "mimetype": "text/x-python",
   "name": "python",
   "nbconvert_exporter": "python",
   "pygments_lexer": "ipython3",
   "version": "3.5.1"
  }
 },
 "nbformat": 4,
 "nbformat_minor": 0
}
