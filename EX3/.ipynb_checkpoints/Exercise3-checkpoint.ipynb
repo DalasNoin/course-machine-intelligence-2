{
 "cells": [
  {
   "cell_type": "code",
   "execution_count": 2,
   "metadata": {
    "collapsed": true
   },
   "outputs": [],
   "source": [
    "import random\n",
    "import glob\n",
    "from scipy import ndimage\n",
    "import itertools\n",
    "import numpy as np\n",
    "import pandas as pd\n",
    "import matplotlib.pyplot as plt\n",
    "from mpl_toolkits.mplot3d import Axes3D\n",
    "%matplotlib inline"
   ]
  },
  {
   "cell_type": "code",
   "execution_count": 34,
   "metadata": {
    "collapsed": false
   },
   "outputs": [],
   "source": [
    "def sample_patches(images, count=5000, size=16):\n",
    "    patches = np.empty((count, size, size))\n",
    "    for i in range(count):\n",
    "        image = random.choice(images)\n",
    "        x = int(random.random() * (image.shape[0] - size))\n",
    "        y = int(random.random() * (image.shape[1] - size))\n",
    "    patches[i] = image[x: x + size, y: y + size]\n",
    "    return patches\n",
    "\n",
    "def show_patches(patches, rows, cols, title='Patches', size=10):\n",
    "    assert len(patches) == rows * cols\n",
    "    fig, ax = plt.subplots(\n",
    "        nrows=rows, ncols=cols, figsize=(size, size / cols * rows),\n",
    "        subplot_kw={'xticks': [], 'yticks': []})\n",
    "    fig.suptitle(title)\n",
    "    for x, y in itertools.product(range(rows), range(cols)):\n",
    "        patch = patches[x * cols + y]\n",
    "        ax[x, y].get_xaxis().set_visible(False)\n",
    "        ax[x, y].imshow(patch, cmap=plt.cm.gray_r, interpolation='nearest')\n",
    "    plt.show()"
   ]
  },
  {
   "cell_type": "code",
   "execution_count": 40,
   "metadata": {
    "collapsed": false,
    "scrolled": true
   },
   "outputs": [
    {
     "data": {
      "image/png": "[encoded data removed]",
      "text/plain": [
       "<matplotlib.figure.Figure at 0x613d550>"
      ]
     },
     "metadata": {},
     "output_type": "display_data"
    },
    {
     "data": {
      "image/png": "[encoded data removed]",
      "text/plain": [
       "<matplotlib.figure.Figure at 0x6090250>"
      ]
     },
     "metadata": {},
     "output_type": "display_data"
    }
   ],
   "source": [
    "# Exercise 3.1\n",
    "\n",
    "nature = [ndimage.imread(x) for x in glob.glob('imgpca/n*.jpg')]\n",
    "buildings = [ndimage.imread(x) for x in glob.glob('imgpca/b*.jpg')]\n",
    "\n",
    "nature = sample_patches(nature, 50)\n",
    "buildings = sample_patches(buildings, 50)\n",
    "\n",
    "show_patches(nature[:24] / 256, 4, 6, 'Sample of the Nature Patches', size=7)\n",
    "show_patches(buildings[:24] / 256, 4, 6, 'Sample of the Building Patches', size=7)\n",
    "\n",
    "nature = nature.reshape((len(nature), -1))\n",
    "buildings = buildings.reshape((len(buildings), -1))"
   ]
  }
 ],
 "metadata": {
  "kernelspec": {
   "display_name": "Python 3",
   "language": "python",
   "name": "python3"
  },
  "language_info": {
   "codemirror_mode": {
    "name": "ipython",
    "version": 3
   },
   "file_extension": ".py",
   "mimetype": "text/x-python",
   "name": "python",
   "nbconvert_exporter": "python",
   "pygments_lexer": "ipython3",
   "version": "3.4.3"
  }
 },
 "nbformat": 4,
 "nbformat_minor": 0
}
