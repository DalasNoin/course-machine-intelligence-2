{
 "cells": [
  {
   "cell_type": "code",
   "execution_count": 48,
   "metadata": {
    "collapsed": false
   },
   "outputs": [],
   "source": [
    "%matplotlib inline\n",
    "\n",
    "import scipy.io\n",
    "import numpy as np\n",
    "import matplotlib.pyplot as plt\n",
    "import seaborn as sns\n",
    "import pandas as pd"
   ]
  },
  {
   "cell_type": "code",
   "execution_count": 109,
   "metadata": {
    "collapsed": false
   },
   "outputs": [],
   "source": [
    "mat = scipy.io.loadmat('distrib.mat')\n",
    "uniform = mat['uniform']\n",
    "normal = mat['normal']\n",
    "laplacian = mat['laplacian']\n",
    "\n",
    "A = np.array([[4,3],[2,1]])"
   ]
  },
  {
   "cell_type": "code",
   "execution_count": 194,
   "metadata": {
    "collapsed": false
   },
   "outputs": [],
   "source": [
    "def plot_dataset(data, title='', xlabel='Source 1', ylabel='Source 2'):\n",
    "    df = pd.DataFrame(data.T, columns=[xlabel, ylabel])\n",
    "#     g = sns.jointplot(x=xlabel, y=ylabel, data=df)\n",
    "#     sns.plt.suptitle(title, fontsize=20, y=1.08)"
   ]
  },
  {
   "cell_type": "code",
   "execution_count": 211,
   "metadata": {
    "collapsed": false
   },
   "outputs": [],
   "source": [
    "def procedure(s):\n",
    "    #Plot the original sources\n",
    "    plot_dataset(s, title='Original sources')\n",
    "    \n",
    "    #7.3a - Apply mixing matrix A and plot mixed data\n",
    "    x = np.dot(A,s)\n",
    "    plot_dataset(x, title='After mixing', xlabel='Mixed 1', ylabel='Mixed 2')\n",
    "    \n",
    "    #7.3b - Center to mean 0 and plot centered data\n",
    "    x = x - np.mean(x,axis=1).reshape(2,1)\n",
    "    plot_dataset(x, title='After centering', xlabel='Centered 1', ylabel='Centered 2')\n",
    "    \n",
    "    #7.3c - Decorrelate by PCA and project onto the principal components\n",
    "    # (consult: 1. eig vs eigh 2. should we sort eigvals?)\n",
    "    covmat = np.cov(x)\n",
    "    eigvals, eigvecs = np.linalg.eig(covmat)"
   ]
  },
  {
   "cell_type": "code",
   "execution_count": 212,
   "metadata": {
    "collapsed": false
   },
   "outputs": [
    {
     "name": "stdout",
     "output_type": "stream",
     "text": [
      "eigh\n",
      " [  0.20219106  45.4666799 ] \n",
      "\n",
      " [[ 0.40440258 -0.91458108]\n",
      " [-0.91458108 -0.40440258]]\n",
      "\n",
      "\n",
      "\n",
      "eig\n",
      " [ 45.4666799    0.20219106] \n",
      "\n",
      " [[ 0.91458108 -0.40440258]\n",
      " [ 0.40440258  0.91458108]]\n"
     ]
    }
   ],
   "source": [
    "procedure(normal)"
   ]
  },
  {
   "cell_type": "code",
   "execution_count": null,
   "metadata": {
    "collapsed": true
   },
   "outputs": [],
   "source": [
    "def kurtosis_of_dist(s):\n",
    "    x = np.dot(A,s)\n",
    "    x -= np.mean(x)"
   ]
  },
  {
   "cell_type": "code",
   "execution_count": 45,
   "metadata": {
    "collapsed": false
   },
   "outputs": [
    {
     "data": {
      "image/png": "[encoded data removed]",
      "text/plain": [
       "<matplotlib.figure.Figure at 0x119f7e588>"
      ]
     },
     "metadata": {},
     "output_type": "display_data"
    }
   ],
   "source": [
    "\n",
    "# sns.set(color_codes=True)\n",
    "\n",
    "\n",
    "# mean, cov = [0, 1], [(1, .5), (.5, 1)]\n",
    "# data = np.random.multivariate_normal(mean, cov, 200)\n",
    "# df = pd.DataFrame(data, columns=[\"x\", \"y\"])\n",
    "\n",
    "# sns.jointplot(x=\"x\", y=\"y\", data=df);"
   ]
  }
 ],
 "metadata": {
  "kernelspec": {
   "display_name": "Python 3",
   "language": "python",
   "name": "python3"
  },
  "language_info": {
   "codemirror_mode": {
    "name": "ipython",
    "version": 3
   },
   "file_extension": ".py",
   "mimetype": "text/x-python",
   "name": "python",
   "nbconvert_exporter": "python",
   "pygments_lexer": "ipython3",
   "version": "3.5.1"
  }
 },
 "nbformat": 4,
 "nbformat_minor": 0
}
