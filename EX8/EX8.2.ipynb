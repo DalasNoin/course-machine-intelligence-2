{
 "cells": [
  {
   "cell_type": "markdown",
   "metadata": {},
   "source": [
    "# Machine Intelligence II SoSe 2016 Exercise 8\n",
    "\n",
    "The Nebenhoerers: Danijar Hafner, Thomas Kellermeier, Patrick Kuhn, Jan Szynal"
   ]
  },
  {
   "cell_type": "code",
   "execution_count": 1,
   "metadata": {
    "collapsed": true
   },
   "outputs": [],
   "source": [
    "import time\n",
    "import numpy as np\n",
    "import matplotlib.pyplot as plt\n",
    "from scipy import signal\n",
    "import scipy.io.wavfile\n",
    "%matplotlib inline\n",
    "from sklearn.decomposition import FastICA, PCA"
   ]
  },
  {
   "cell_type": "code",
   "execution_count": 2,
   "metadata": {
    "collapsed": false
   },
   "outputs": [],
   "source": [
    "# setup data for ICA\n",
    "sound1 = np.loadtxt('sounds/sound1.dat')\n",
    "sound2 = np.loadtxt('sounds/sound2.dat')\n",
    "sounds = np.concatenate([[sound1, sound2]], axis=1)\n",
    "\n",
    "#create 100 different mixing matrices\n",
    "As = np.zeros([1000,2,2])\n",
    "n = As.shape[0] \n",
    "for i in np.arange(n):\n",
    "    A = np.linalg.inv(np.random.RandomState().rand(2,2))\n",
    "    As[i] = A"
   ]
  },
  {
   "cell_type": "code",
   "execution_count": 3,
   "metadata": {
    "collapsed": false
   },
   "outputs": [],
   "source": [
    "# [from previous exercises] setup functions for ICA\n",
    "def sigmoid(y):\n",
    "    return 0.5*np.tanh(0.5*y)+0.5 #overflow-safe version\n",
    "\n",
    "def psi(y):\n",
    "    return 1 - 2 * sigmoid(y)\n",
    "\n",
    "def update_natural(W, x):\n",
    "    n = x.shape[0]\n",
    "    \n",
    "    phee = psi(W.dot(x)).reshape(n, 1)\n",
    "#     assert np.sum(np.isnan(phee)) == 0\n",
    "    delta_W = np.dot(phee.dot(np.dot(W, x).reshape(1, n)), W)\n",
    "#     assert np.sum(np.isnan(delta_W)) == 0\n",
    "    delta_W = delta_W + W  # multiplied out delta function\n",
    "#     assert np.sum(np.isnan(delta_W)) == 0\n",
    "    for i in range(n):  # Bell-Sejnowski solution\n",
    "        delta_W[i, i] = 0\n",
    "    return delta_W\n",
    "\n",
    "def plot(ax, data, **kwargs):\n",
    "    ax.plot(data, **kwargs)\n",
    "    ax.set_title(kwargs['label'])\n",
    "    scipy.io.wavfile.write(kwargs['label'] + '.wav', 8192, data),\n",
    "\n",
    "def online_ica(X0, lambda_= 0.9999, epsilon = 0.001, eta = 0.01):\n",
    "    X = X0[:,np.random.RandomState(seed+1).permutation(X0.shape[1])]\n",
    "    X -= X.mean(axis=1).reshape((2, 1))\n",
    "    \n",
    "    n = X.shape[0]  # Number of sources\n",
    "    W = np.linalg.inv(np.random.RandomState(seed+1).rand(n, n))\n",
    "    for i in range(n):  # Bell-Sejnowski solution\n",
    "        W[i, i] = 1\n",
    "    time = 0\n",
    "    while eta > epsilon:\n",
    "        example = X.T[time % X.shape[1]]\n",
    "        eta = eta * lambda_\n",
    "        W += eta * update_natural(W, example)\n",
    "        time += 1\n",
    "#     print(\"Calculated unmixing matrix in {} steps\".format(time))\n",
    "    return W.dot(X0)\n",
    "\n",
    "def fast_ica(X):\n",
    "    ica = FastICA(n_components=2)\n",
    "    S_ = ica.fit_transform(X.T)  # Reconstruct signals\n",
    "    A_ = ica.mixing_  # Get estimated mixing matrix\n",
    "    return S_.T #return unmixed signals\n",
    "\n",
    "seed = 13  # seed for random states to get always the same result"
   ]
  },
  {
   "cell_type": "code",
   "execution_count": null,
   "metadata": {
    "collapsed": false
   },
   "outputs": [
    {
     "name": "stderr",
     "output_type": "stream",
     "text": [
      "//anaconda/lib/python3.5/site-packages/ipykernel/__main__.py:15: RuntimeWarning: invalid value encountered in add\n"
     ]
    }
   ],
   "source": [
    "times = np.zeros([n,2])\n",
    "dets = np.zeros([n,1])\n",
    "\n",
    "for i, A in enumerate(As):    \n",
    "    dets[i] = np.linalg.det(A)\n",
    "    X = A.dot(sounds)\n",
    "    \n",
    "    start_time = time.time()\n",
    "    unmixed_onlineica = online_ica(X)\n",
    "    times[i,0] = (time.time() - start_time)\n",
    "#     print(\"online ica took %s seconds\" % (time.time() - start_time))\n",
    "\n",
    "    start_time = time.time()\n",
    "    unmixed_fastica = fast_ica(X)\n",
    "    times[i,1] = (time.time() - start_time)\n",
    "#     print(\"fast ica took %s seconds\" % (time.time() - start_time))\n"
   ]
  },
  {
   "cell_type": "code",
   "execution_count": null,
   "metadata": {
    "collapsed": false
   },
   "outputs": [],
   "source": [
    "\n",
    "fig = plt.figure(0,figsize=(20,10))\n",
    "plt.xlim([-1000,-1000])\n",
    "fig.suptitle('Comparison of infomax and fastICA computation time', fontsize=12)\n",
    "\n",
    "inf = plt.scatter(dets,times[:,0],color='blue', legend='infomax')\n",
    "fast = plt.scatter(dets,times[:,1],color='red', legend='fastICA')\n",
    "\n",
    "line_up, = plt.plot([1,2,3], label='Line 2')\n",
    "line_down, = plt.plot([3,2,1], label='Line 1')\n",
    "plt.legend(handles=[line_up, line_down])\n",
    "\n",
    "\n",
    "fig = plt.figure(1,figsize=(20,10))\n",
    "fig.suptitle('Limited to a smaller range', fontsize=12)\n",
    "plt.xlim([-50,50])\n",
    "plt.scatter(dets,times[:,0])\n",
    "plt.scatter(dets,times[:,1],color='red')"
   ]
  }
 ],
 "metadata": {
  "kernelspec": {
   "display_name": "Python 3",
   "language": "python",
   "name": "python3"
  },
  "language_info": {
   "codemirror_mode": {
    "name": "ipython",
    "version": 3
   },
   "file_extension": ".py",
   "mimetype": "text/x-python",
   "name": "python",
   "nbconvert_exporter": "python",
   "pygments_lexer": "ipython3",
   "version": "3.5.1"
  }
 },
 "nbformat": 4,
 "nbformat_minor": 0
}
