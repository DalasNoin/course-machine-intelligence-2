{
 "cells": [
  {
   "cell_type": "code",
   "execution_count": 26,
   "metadata": {
    "collapsed": false
   },
   "outputs": [],
   "source": [
    "import numpy as np\n",
    "import pandas as pd\n",
    "from scipy.stats.stats import pearsonr   \n",
    "import scipy.io.wavfile\n",
    "import matplotlib.pyplot as plt\n",
    "import wave\n",
    "import os\n",
    "\n",
    "%matplotlib inline\n"
   ]
  },
  {
   "cell_type": "code",
   "execution_count": 7,
   "metadata": {
    "collapsed": false
   },
   "outputs": [],
   "source": [
    "s1 = pd.read_csv('sounds/sound1.dat', header=None)\n",
    "s2 = pd.read_csv('sounds/sound2.dat', header=None)\n",
    "\n",
    "s1 = s1.as_matrix()\n",
    "s2 = s2.as_matrix()\n",
    "\n",
    "s = np.concatenate([s1,s2],axis=1).T"
   ]
  },
  {
   "cell_type": "code",
   "execution_count": 8,
   "metadata": {
    "collapsed": false
   },
   "outputs": [
    {
     "name": "stdout",
     "output_type": "stream",
     "text": [
      "0.00170683578325 0.0018876721829 0.00986462509575 0.010114310755\n"
     ]
    }
   ],
   "source": [
    "A = np.random.RandomState(444).rand(2,2)\n",
    "# proof that it's invertible\n",
    "# ainv = np.linalg.inv(A)\n",
    "\n",
    "x0 = np.dot(A,s)\n",
    "x = x0[:,np.random.RandomState(444).permutation(x0.shape[1])]\n",
    "\n",
    "p1,_ = pearsonr(s[0,:],x[0,:])\n",
    "p2,_ = pearsonr(s[0,:],x[1,:])\n",
    "p3,_ = pearsonr(s[1,:],x[0,:])\n",
    "p4,_ = pearsonr(s[1,:],x[1,:])\n",
    "\n",
    "print(p1,p2,p3,p4)\n",
    "\n",
    "x -= x.mean(axis=1).reshape((2, 1))"
   ]
  },
  {
   "cell_type": "code",
   "execution_count": 9,
   "metadata": {
    "collapsed": false
   },
   "outputs": [],
   "source": [
    "W = np.random.RandomState(1337).rand(2,2)"
   ]
  },
  {
   "cell_type": "code",
   "execution_count": 25,
   "metadata": {
    "collapsed": false
   },
   "outputs": [
    {
     "ename": "ImportError",
     "evalue": "No module named 'pygame'",
     "output_type": "error",
     "traceback": [
      "\u001b[0;31m---------------------------------------------------------------------------\u001b[0m",
      "\u001b[0;31mImportError\u001b[0m                               Traceback (most recent call last)",
      "\u001b[0;32m<ipython-input-25-e910bf7b5390>\u001b[0m in \u001b[0;36m<module>\u001b[0;34m()\u001b[0m\n\u001b[0;32m----> 1\u001b[0;31m \u001b[0;32mimport\u001b[0m \u001b[0mpygame\u001b[0m\u001b[0;34m\u001b[0m\u001b[0m\n\u001b[0m\u001b[1;32m      2\u001b[0m \u001b[0;34m\u001b[0m\u001b[0m\n\u001b[1;32m      3\u001b[0m \u001b[0;31m# scipy.io.wavfile.write('s1.wav', 8192, s1)\u001b[0m\u001b[0;34m\u001b[0m\u001b[0;34m\u001b[0m\u001b[0m\n\u001b[1;32m      4\u001b[0m \u001b[0;31m# scipy.io.wavfile.write('s2.wav', 8192, s2)\u001b[0m\u001b[0;34m\u001b[0m\u001b[0;34m\u001b[0m\u001b[0m\n\u001b[1;32m      5\u001b[0m \u001b[0;34m\u001b[0m\u001b[0m\n",
      "\u001b[0;31mImportError\u001b[0m: No module named 'pygame'"
     ]
    }
   ],
   "source": [
    "scipy.io.wavfile.write('s1.wav', 8192, s1)\n",
    "scipy.io.wavfile.write('s2.wav', 8192, s2)\n"
   ]
  }
 ],
 "metadata": {
  "kernelspec": {
   "display_name": "Python 3",
   "language": "python",
   "name": "python3"
  },
  "language_info": {
   "codemirror_mode": {
    "name": "ipython",
    "version": 3
   },
   "file_extension": ".py",
   "mimetype": "text/x-python",
   "name": "python",
   "nbconvert_exporter": "python",
   "pygments_lexer": "ipython3",
   "version": "3.5.1"
  }
 },
 "nbformat": 4,
 "nbformat_minor": 0
}
