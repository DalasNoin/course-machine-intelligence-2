{
 "cells": [
  {
   "cell_type": "code",
   "execution_count": 2,
   "metadata": {
    "collapsed": false
   },
   "outputs": [],
   "source": [
    "import numpy as np\n",
    "import pandas as pd\n",
    "from scipy.stats.stats import pearsonr   \n",
    "from IPython.display import Audio\n",
    "import scipy.io.wavfile\n",
    "import matplotlib.pyplot as plt\n",
    "import wave\n",
    "import os\n",
    "%matplotlib inline"
   ]
  },
  {
   "cell_type": "code",
   "execution_count": 3,
   "metadata": {
    "collapsed": false
   },
   "outputs": [],
   "source": [
    "s1 = pd.read_csv('sounds/sound1.dat', header=None)\n",
    "s2 = pd.read_csv('sounds/sound2.dat', header=None)\n",
    "\n",
    "s1 = s1.as_matrix()\n",
    "s2 = s2.as_matrix()\n",
    "\n",
    "s = np.concatenate([s1,s2],axis=1).T"
   ]
  },
  {
   "cell_type": "code",
   "execution_count": 4,
   "metadata": {
    "collapsed": false
   },
   "outputs": [
    {
     "name": "stdout",
     "output_type": "stream",
     "text": [
      "[[  0.00000000e+00  -1.17662714e-04  -2.87384805e-03 ...,  -2.72536789e-03\n",
      "   -2.83391385e-03   0.00000000e+00]\n",
      " [  0.00000000e+00  -8.48608220e-05  -2.07842227e-03 ...,  -1.30231481e-03\n",
      "   -2.46739974e-03   0.00000000e+00]]\n",
      "0.00479401299668 0.00361937298255 0.0129195445175 0.012118880433\n"
     ]
    }
   ],
   "source": [
    "A = np.random.RandomState(12).rand(2,2)\n",
    "# proof that it's invertible\n",
    "# ainv = np.linalg.inv(A)\n",
    "# print(A)\n",
    "# A = [[0,-10],[5,3]]\n",
    "\n",
    "x0 = np.dot(A,s)\n",
    "print(x0)\n",
    "x = x0[:,np.random.RandomState(444).permutation(x0.shape[1])]\n",
    "\n",
    "p1,_ = pearsonr(s[0,:],x[0,:])\n",
    "p2,_ = pearsonr(s[0,:],x[1,:])\n",
    "p3,_ = pearsonr(s[1,:],x[0,:])\n",
    "p4,_ = pearsonr(s[1,:],x[1,:])\n",
    "\n",
    "print(p1,p2,p3,p4)\n",
    "\n",
    "x -= x.mean(axis=1).reshape((2, 1))"
   ]
  },
  {
   "cell_type": "code",
   "execution_count": null,
   "metadata": {
    "collapsed": false
   },
   "outputs": [],
   "source": []
  },
  {
   "cell_type": "code",
   "execution_count": 32,
   "metadata": {
    "collapsed": false
   },
   "outputs": [
    {
     "name": "stdout",
     "output_type": "stream",
     "text": [
      "-0.88202201414\n",
      "-0.984479195249\n",
      "-1.00794283935\n",
      "-1.01627879795\n",
      "-1.02126989316\n",
      "-1.02486711808\n",
      "-1.02815514136\n",
      "-1.0308167183\n",
      "-1.03300126583\n",
      "-1.03503944188\n",
      "-1.03679126954\n",
      "-1.0385657015\n",
      "-1.03997709535\n",
      "-1.04125047925\n",
      "-1.04247235105\n",
      "-1.04345229879\n",
      "-1.04448889139\n",
      "-1.04552519976\n"
     ]
    }
   ],
   "source": [
    "def sigmoid(x):\n",
    "    return 1 / (1 + np.exp(-x))\n",
    "\n",
    "def delta_sigmoid(x):\n",
    "    return np.exp(x) / (1 + np.exp(x)) ** 2\n",
    "\n",
    "def delta2_sigmoid(x):\n",
    "    numerator = np.exp(x) * (np.exp(x) - 1)\n",
    "    denominator = (np.exp(x) + 1) ** 3\n",
    "    return -(numerator / denominator)\n",
    "\n",
    "def cost(x, w):\n",
    "    wx = np.dot(w, x)\n",
    "    return np.log(np.abs(w)) + np.log(delta_sigmoid(wx)).mean()\n",
    "\n",
    "def delta_cost(x, w):\n",
    "    wx = np.dot(w, x)\n",
    "    # return x * delta2_sigmoid(wx) / delta_sigmoid(wx) + np.linalg.inv(w)\n",
    "    return delta2_sigmoid(wx) / delta_sigmoid(wx) + np.linalg.inv(w)\n",
    "\n",
    "w = np.random.RandomState(444).rand(2,2)\n",
    "initial_learning_rate = 0.1\n",
    "\n",
    "import collections\n",
    "print_every = 1000\n",
    "avg_cost = collections.deque(maxlen=print_every)\n",
    "for time, example in enumerate(x.T):\n",
    "    learning_rate = initial_learning_rate / (time + 1)\n",
    "    w += learning_rate * delta_cost(example, w)\n",
    "    avg_cost.append(cost(x, w).mean())\n",
    "    if time % print_every == 0:\n",
    "        print(sum(avg_cost) / len(avg_cost))"
   ]
  },
  {
   "cell_type": "code",
   "execution_count": null,
   "metadata": {
    "collapsed": false
   },
   "outputs": [],
   "source": [
    "def playAndPlot(sound, ax):\n",
    "    ax.plot(sound)\n",
    "    ax.set_ylim(-6,6)\n",
    "    filename = 'temp.wav'\n",
    "    scipy.io.wavfile.write(filename, 8192, sound)\n",
    "#     os.system('afplay '+filename)\n",
    "#     os.system('mpg123 '+filename)\n",
    "#     os.system('start '+filename)\n",
    "\n",
    "#original sources    \n",
    "\n",
    "fig, ax = plt.subplots(4,2, figsize=(14, 10))\n",
    "\n",
    "playAndPlot(s1,ax[0,0])\n",
    "playAndPlot(s2,ax[0,1])\n",
    "playAndPlot(x0[0,:],ax[1,0])\n",
    "playAndPlot(x0[1,:],ax[1,1])\n",
    "playAndPlot(x[0,:],ax[2,0])\n",
    "playAndPlot(x[1,:],ax[2,1])\n",
    "\n",
    "fig.tight_layout()\n"
   ]
  },
  {
   "cell_type": "code",
   "execution_count": null,
   "metadata": {
    "collapsed": false
   },
   "outputs": [],
   "source": [
    "print(x0[1,:])\n",
    "print(x0[0,:])\n"
   ]
  }
 ],
 "metadata": {
  "kernelspec": {
   "display_name": "Python 3",
   "language": "python",
   "name": "python3"
  },
  "language_info": {
   "codemirror_mode": {
    "name": "ipython",
    "version": 3
   },
   "file_extension": ".py",
   "mimetype": "text/x-python",
   "name": "python",
   "nbconvert_exporter": "python",
   "pygments_lexer": "ipython3",
   "version": "3.5.1"
  }
 },
 "nbformat": 4,
 "nbformat_minor": 0
}
