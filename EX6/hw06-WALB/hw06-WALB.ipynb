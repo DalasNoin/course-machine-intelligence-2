{
 "cells": [
  {
   "cell_type": "code",
   "execution_count": 501,
   "metadata": {
    "collapsed": false
   },
   "outputs": [],
   "source": [
    "import numpy as np\n",
    "import pandas as pd\n",
    "import matplotlib.pyplot as plt\n",
    "from scipy.io import wavfile\n",
    "from scipy.signal import periodogram\n",
    "%matplotlib inline"
   ]
  },
  {
   "cell_type": "markdown",
   "metadata": {},
   "source": [
    "# Machine Intelligence II\n",
    "\n",
    "## Exercise Sheet 06: Independent Component Analysis\n",
    "\n",
    "### Group WALB: Wichert, Alevi, Lang, Boelts"
   ]
  },
  {
   "cell_type": "markdown",
   "metadata": {},
   "source": [
    "### 6.1"
   ]
  },
  {
   "cell_type": "code",
   "execution_count": 508,
   "metadata": {
    "collapsed": false
   },
   "outputs": [
    {
     "name": "stdout",
     "output_type": "stream",
     "text": [
      "(2, 18000)\n"
     ]
    }
   ],
   "source": [
    "# (a)\n",
    "rate = 8192\n",
    "p = 18000\n",
    "seed = 13\n",
    "sound1 = np.loadtxt('../sounds/sound1.dat')\n",
    "sound2 = np.loadtxt('../sounds/sound2.dat')\n",
    "sounds = np.concatenate([[sound1, sound2]], axis=1)\n",
    "wavfile.write('original1.wav', rate, sound1)\n",
    "wavfile.write('original2.wav', rate, sound2)"
   ]
  },
  {
   "cell_type": "code",
   "execution_count": null,
   "metadata": {
    "collapsed": true
   },
   "outputs": [],
   "source": []
  },
  {
   "cell_type": "code",
   "execution_count": null,
   "metadata": {
    "collapsed": false
   },
   "outputs": [],
   "source": [
    "# (b)\n",
    "A = np.linalg.inv(np.random.RandomState(seed).rand(2,2))\n",
    "X = A.dot(sounds)"
   ]
  },
  {
   "cell_type": "code",
   "execution_count": null,
   "metadata": {
    "collapsed": false
   },
   "outputs": [],
   "source": [
    "# (c)\n",
    "dist = X # for 6.3 (a) (ii)\n",
    "X = X[:,np.random.RandomState(seed+1).permutation(X.shape[1])]\n",
    "dist_perm = X # for 6.3 (a) (ii)"
   ]
  },
  {
   "cell_type": "code",
   "execution_count": null,
   "metadata": {
    "collapsed": false
   },
   "outputs": [],
   "source": [
    "# (d)\n",
    "for i in range(2):\n",
    "    for j in range(2):\n",
    "        corr = np.cov(sounds[i,:], X[j,:]) / sounds[i,:].var() / X[j,:].var()\n",
    "        print('correlation matrix between s_{} and x_{}:\\n {}\\n'.format(i, j, corr))"
   ]
  },
  {
   "cell_type": "code",
   "execution_count": null,
   "metadata": {
    "collapsed": false
   },
   "outputs": [],
   "source": [
    "# (e)\n",
    "X = X - X.mean(axis=1).reshape(2,1)"
   ]
  },
  {
   "cell_type": "code",
   "execution_count": null,
   "metadata": {
    "collapsed": true
   },
   "outputs": [],
   "source": [
    "# (f)\n",
    "W = np.linalg.inv(np.random.RandomState(seed+1).rand(2,2))\n",
    "W_nat = np.linalg.inv(np.random.RandomState(seed+1).rand(2,2))"
   ]
  },
  {
   "cell_type": "markdown",
   "metadata": {},
   "source": [
    "### 6.2"
   ]
  },
  {
   "cell_type": "code",
   "execution_count": null,
   "metadata": {
    "collapsed": true
   },
   "outputs": [],
   "source": [
    "def f(y):\n",
    "    return 1 / (1 + np.exp(-y))\n",
    "\n",
    "def phi(y):\n",
    "    return 1 - 2 * f(y)"
   ]
  },
  {
   "cell_type": "code",
   "execution_count": null,
   "metadata": {
    "collapsed": false
   },
   "outputs": [],
   "source": [
    "# (a)\n",
    "def update_regular(W, x, eta):\n",
    "    W_inv = np.linalg.inv(W)    \n",
    "    delta_W = W_inv.T + phi(W.dot(x)).reshape(2,1).dot(x.reshape(1,2))\n",
    "    return W + eta * delta_W,  delta_W, eta * delta_W"
   ]
  },
  {
   "cell_type": "code",
   "execution_count": null,
   "metadata": {
    "collapsed": true
   },
   "outputs": [],
   "source": [
    "# (b)\n",
    "def update_natural(W, x, eta):\n",
    "    phee = phi(W.dot(x)).reshape(2,1)\n",
    "    delta_W = np.dot(phee.dot(np.dot(W, x).reshape(1,2)), W)\n",
    "    delta_W = delta_W + W # multiplied out delta function\n",
    "    delta_W[0,0] = 0 # Bell-Seijnowski solution\n",
    "    delta_W[1,1] = 0 # Bell-Seijnowski solution\n",
    "    return W + eta * delta_W,  delta_W, eta * delta_W"
   ]
  },
  {
   "cell_type": "code",
   "execution_count": null,
   "metadata": {
    "collapsed": false
   },
   "outputs": [],
   "source": [
    "# (c)\n",
    "eta_0 = 20\n",
    "delta_W_norms = []\n",
    "delta_W_norms_eta = []\n",
    "for t in range(X.shape[1]):\n",
    "    eta = eta_0 / (t + 1)\n",
    "    x = X[:,t]\n",
    "    W, delta_W, delta_W_eta = update_regular(W, x, eta)\n",
    "    if t % 1000 == 0:\n",
    "        delta_W_norms.append(np.sum(delta_W ** 2)) # for 6.3 (c)\n",
    "        delta_W_norms_eta.append(np.sum(delta_W_eta ** 2)) # for 6.3 (c)\n",
    "    \n",
    "rec = W.dot(A.dot(sounds))\n",
    "\n",
    "eta_0 = .15\n",
    "delta_W_norms_nat = []\n",
    "delta_W_norms_nat_eta = []\n",
    "W_nat = np.linalg.inv(np.random.RandomState(seed+2).rand(2,2))\n",
    "W_nat[0,0] = 1 # Bell-Seijnowski solution\n",
    "W_nat[1,1] = 1 # Bell-Seijnowski solution\n",
    "for t in range(X.shape[1]):\n",
    "    eta = eta_0 / (t + 1)\n",
    "    x = X[:,t]\n",
    "    W_nat, delta_W_nat, delta_W_nat_eta = update_natural(W_nat, x, eta)\n",
    "    assert not np.isnan(W_nat[0,0])\n",
    "    if t % 1000 == 0:\n",
    "        delta_W_norms_nat.append(np.sum(delta_W_nat ** 2)) # for 6.3 (c)\n",
    "        delta_W_norms_nat_eta.append(np.sum(delta_W_nat_eta ** 2)) # for 6.3 (c)\n",
    "\n",
    "rec_nat = W_nat.dot(A.dot(sounds))"
   ]
  },
  {
   "cell_type": "markdown",
   "metadata": {},
   "source": [
    "### 6.3"
   ]
  },
  {
   "cell_type": "code",
   "execution_count": null,
   "metadata": {
    "collapsed": false
   },
   "outputs": [],
   "source": [
    "# (a)\n",
    "\n",
    "wavfile.write('rec1.wav', rate, rec[0,:])\n",
    "wavfile.write('rec2.wav', rate, rec[1,:])\n",
    "wavfile.write('rec_nat1.wav', rate, rec_nat[0,:])\n",
    "wavfile.write('rec_nat2.wav', rate, rec_nat[1,:])\n",
    "wavfile.write('dist1.wav', rate, dist[0,:]) \n",
    "wavfile.write('dist2.wav', rate, dist[1,:])\n",
    "wavfile.write('dist_perm1.wav', rate, dist_perm[0,:])\n",
    "wavfile.write('dist_perm2.wav', rate, dist_perm[1,:])"
   ]
  },
  {
   "cell_type": "code",
   "execution_count": null,
   "metadata": {
    "collapsed": false
   },
   "outputs": [],
   "source": [
    "time = np.arange(p) / rate\n",
    "\n",
    "plt.figure(figsize=(12,4))\n",
    "plt.subplot('121')\n",
    "plt.plot(time, sound1)\n",
    "plt.xlabel('time [s]')\n",
    "plt.ylabel('amplitude')\n",
    "plt.title('original signal 1 (birds chirping)')\n",
    "plt.subplot('122')\n",
    "plt.plot(time, sound2)\n",
    "plt.xlabel('time [s]')\n",
    "plt.ylabel('amplitude')\n",
    "plt.title('original signal 2 (halleluja)')\n",
    "\n",
    "plt.figure(figsize=(12,4))\n",
    "plt.subplot('121')\n",
    "plt.plot(time, rec[0,:])\n",
    "plt.xlabel('time [s]')\n",
    "plt.ylabel('amplitude')\n",
    "plt.title('first recovered signal (regular update rule)')\n",
    "plt.subplot('122')\n",
    "plt.plot(time, rec[1,:])\n",
    "plt.xlabel('time [s]')\n",
    "plt.ylabel('amplitude')\n",
    "plt.title('second recovered signal (regular update rule)')\n",
    "\n",
    "plt.figure(figsize=(12,4))\n",
    "plt.subplot('121')\n",
    "plt.plot(time, rec_nat[0,:])\n",
    "plt.xlabel('time [s]')\n",
    "plt.ylabel('amplitude')\n",
    "plt.title('first recovered signal (natural update rule)')\n",
    "plt.subplot('122')\n",
    "plt.plot(time, rec_nat[1,:])\n",
    "plt.xlabel('time [s]')\n",
    "plt.ylabel('amplitude')\n",
    "plt.title('second recovered signal (natural update rule)')\n",
    "\n",
    "plt.figure(figsize=(12,4))\n",
    "plt.subplot('121')\n",
    "plt.plot(time, dist[0,:])\n",
    "plt.xlabel('time [s]')\n",
    "plt.ylabel('amplitude')\n",
    "plt.title('mixed sources before permutation')\n",
    "plt.subplot('122')\n",
    "plt.plot(time, dist[1,:])\n",
    "plt.xlabel('time [s]')\n",
    "plt.ylabel('amplitude')\n",
    "plt.title('mixed sources before permutation')\n",
    "\n",
    "plt.figure(figsize=(12,4))\n",
    "plt.subplot('121')\n",
    "plt.plot(time, dist_perm[0,:])\n",
    "plt.xlabel('time [s]')\n",
    "plt.ylabel('amplitude')\n",
    "plt.title('mixed sources after permutation')\n",
    "plt.subplot('122')\n",
    "plt.plot(time, dist_perm[1,:])\n",
    "plt.xlabel('time [s]')\n",
    "plt.ylabel('amplitude')\n",
    "plt.title('mixed sources after permutation');"
   ]
  },
  {
   "cell_type": "code",
   "execution_count": null,
   "metadata": {
    "collapsed": false
   },
   "outputs": [],
   "source": [
    "# (b)\n",
    "\n",
    "for i in range(2):\n",
    "    for j in range(2):\n",
    "        corr = np.cov(sounds[i,:], rec[j,:]) / sounds[i,:].var() / rec[j,:].var()\n",
    "        print('correlation matrix between s_{} and rec_{}:\\n {}\\n'.format(i, j, corr))"
   ]
  },
  {
   "cell_type": "code",
   "execution_count": null,
   "metadata": {
    "collapsed": false
   },
   "outputs": [],
   "source": [
    "# (c)\n",
    "\n",
    "plt.plot(delta_W_norms)\n",
    "plt.title(r'convergence of $\\Delta W$ (regular, without learning rate)')\n",
    "plt.xlabel('update # [k]')\n",
    "plt.ylabel(r'$||\\Delta W||^2_F$')\n",
    "\n",
    "plt.figure()\n",
    "plt.plot(delta_W_norms_nat)\n",
    "plt.title(r'convergence of $\\Delta W$ (natural, without learning rate)')\n",
    "plt.xlabel('update # [k]')\n",
    "plt.ylabel(r'$||\\Delta W||^2_F$')\n",
    "\n",
    "plt.figure()\n",
    "plt.plot(delta_W_norms_eta)\n",
    "plt.title(r'convergence of $\\Delta W$ (regular, with learning rate)')\n",
    "plt.xlabel('update # [k]')\n",
    "plt.ylabel(r'$||\\Delta W||^2_F$')\n",
    "\n",
    "plt.figure()\n",
    "plt.plot(delta_W_norms_nat_eta)\n",
    "plt.title(r'convergence of $\\Delta W$ (natural, with learning rate)')\n",
    "plt.xlabel('update # [k]')\n",
    "plt.ylabel(r'$||\\Delta W||^2_F$');"
   ]
  },
  {
   "cell_type": "code",
   "execution_count": null,
   "metadata": {
    "collapsed": false
   },
   "outputs": [],
   "source": [
    "# (c) (continued)\n",
    "\n",
    "def whiten_data(data):\n",
    "    C = np.cov(data)\n",
    "    w, V = np.linalg.eigh(C)\n",
    "    D = np.diag(1 / np.sqrt(w))\n",
    "    M = D.dot(V)\n",
    "    return M.dot(data)\n",
    "    \n",
    "X_white = whiten_data(X)\n",
    "\n",
    "eta_0 = 20\n",
    "delta_W_norms = []\n",
    "delta_W_norms_eta = []\n",
    "for t in range(X_white.shape[1]):\n",
    "    eta = eta_0 / (t + 1)\n",
    "    x = X_white[:,t]\n",
    "    W, delta_W, delta_W_eta = update_regular(W, x, eta)\n",
    "    if t % 1000 == 0:\n",
    "        delta_W_norms.append(np.sum(delta_W ** 2)) # for 6.3 (c)\n",
    "        delta_W_norms_eta.append(np.sum(delta_W_eta ** 2)) # for 6.3 (c)\n",
    "    \n",
    "rec = W.dot(A.dot(sounds))\n",
    "\n",
    "eta_0 = .15\n",
    "delta_W_norms_nat = []\n",
    "delta_W_norms_nat_eta = []\n",
    "W_nat = np.linalg.inv(np.random.random(size=(2,2)))\n",
    "W_nat[0,0] = 1 # Bell-Seijnowski solution\n",
    "W_nat[1,1] = 1 # Bell-Seijnowski solution\n",
    "for t in range(X_white.shape[1]):\n",
    "    eta = eta_0 / (t + 1)\n",
    "    x = X_white[:,t]\n",
    "    W_nat, delta_W_nat, delta_W_nat_eta = update_natural(W_nat, x, eta)\n",
    "    assert not np.isnan(W_nat[0,0])\n",
    "    if t % 1000 == 0:\n",
    "        delta_W_norms_nat.append(np.sum(delta_W_nat ** 2)) # for 6.3 (c)\n",
    "        delta_W_norms_nat_eta.append(np.sum(delta_W_nat_eta ** 2)) # for 6.3 (c)\n",
    "\n",
    "rec_nat = W_nat.dot(A.dot(sounds))\n",
    "\n",
    "plt.plot(delta_W_norms)\n",
    "plt.title(r'convergence of $\\Delta W$ (regular, without learning rate)')\n",
    "plt.xlabel('update # [k]')\n",
    "plt.ylabel(r'$||\\Delta W||^2_F$')\n",
    "\n",
    "plt.figure()\n",
    "plt.plot(delta_W_norms_nat)\n",
    "plt.title(r'convergence of $\\Delta W$ (natural, without learning rate)')\n",
    "plt.xlabel('update # [k]')\n",
    "plt.ylabel(r'$||\\Delta W||^2_F$')\n",
    "\n",
    "plt.figure()\n",
    "plt.plot(delta_W_norms_eta)\n",
    "plt.title(r'convergence of $\\Delta W$ (regular, with learning rate)')\n",
    "plt.xlabel('update # [k]')\n",
    "plt.ylabel(r'$||\\Delta W||^2_F$')\n",
    "\n",
    "plt.figure()\n",
    "plt.plot(delta_W_norms_nat_eta)\n",
    "plt.title(r'convergence of $\\Delta W$ (natural, with learning rate)')\n",
    "plt.xlabel('update # [k]')\n",
    "plt.ylabel(r'$||\\Delta W||^2_F$');"
   ]
  },
  {
   "cell_type": "code",
   "execution_count": null,
   "metadata": {
    "collapsed": false
   },
   "outputs": [],
   "source": [
    "# (d)\n",
    "\n",
    "def plot_density(signal1, signal2, name):\n",
    "    f1, PXX_den1 = periodogram(signal1, rate)\n",
    "    f2, PXX_den2 = periodogram(signal2, rate)\n",
    "    plt.figure(figsize=(12,4))\n",
    "    plt.subplot('121')\n",
    "    plt.plot(f1, PXX_den1)\n",
    "    plt.title('power density estimate of {} 1'.format(name))\n",
    "    plt.xlabel('frequency [Hz]')\n",
    "    plt.ylabel('density')\n",
    "    plt.subplot('122')\n",
    "    plt.plot(f2, PXX_den2)\n",
    "    plt.title('power density estimate of {} 2'.format(name))\n",
    "    plt.xlabel('frequency [Hz]')\n",
    "    plt.ylabel('density')\n",
    "    \n",
    "plot_density(sound1, sound2, 'true signal')\n",
    "plot_density(dist[0,:], dist[1,:], 'mixed signal')\n",
    "plot_density(rec[0,:], rec[1,:], 'unmixed signal (regular)')\n",
    "plot_density(rec_nat[0,:], rec_nat[1,:], 'unmixed signal (natural)')"
   ]
  }
 ],
 "metadata": {
  "kernelspec": {
   "display_name": "Python 3",
   "language": "python",
   "name": "python3"
  },
  "language_info": {
   "codemirror_mode": {
    "name": "ipython",
    "version": 3
   },
   "file_extension": ".py",
   "mimetype": "text/x-python",
   "name": "python",
   "nbconvert_exporter": "python",
   "pygments_lexer": "ipython3",
   "version": "3.4.3"
  }
 },
 "nbformat": 4,
 "nbformat_minor": 0
}
